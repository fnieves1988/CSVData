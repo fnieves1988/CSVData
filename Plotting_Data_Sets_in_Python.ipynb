{
  "nbformat": 4,
  "nbformat_minor": 0,
  "metadata": {
    "colab": {
      "provenance": [],
      "authorship_tag": "ABX9TyO79dlOnyByIb8n2QaEmq+R",
      "include_colab_link": true
    },
    "kernelspec": {
      "name": "python3",
      "display_name": "Python 3"
    },
    "language_info": {
      "name": "python"
    }
  },
  "cells": [
    {
      "cell_type": "markdown",
      "metadata": {
        "id": "view-in-github",
        "colab_type": "text"
      },
      "source": [
        "<a href=\"https://colab.research.google.com/github/fnieves1988/CSVData/blob/main/Plotting_Data_Sets_in_Python.ipynb\" target=\"_parent\"><img src=\"https://colab.research.google.com/assets/colab-badge.svg\" alt=\"Open In Colab\"/></a>"
      ]
    },
    {
      "cell_type": "code",
      "execution_count": null,
      "metadata": {
        "id": "TwlOObcKJKFf"
      },
      "outputs": [],
      "source": []
    },
    {
      "cell_type": "markdown",
      "source": [
        "<font color = blue> $ \\huge{\\text{Plotting Data Sets in Python}} $ </font>\n",
        "\n",
        "\n",
        "\n",
        "* $ \\it{Motivation}: \\text{Creating data plots in Python is a valuable} $ skill for physics students\n",
        "* $ \\text{Audience: Introductory Physics and Statistics Students}$\n",
        "\n",
        "* $ \\text{Content Areas}: $\n",
        "** Hooke’s Law\n",
        "** Conservation of Energy\n",
        "** Statistical Analysis: Regression\n",
        "\n",
        "\n",
        "\n",
        "$\\text{Materials:}$\n",
        "\n",
        "* Plastic Cups\n",
        "*  PASCO Demonstration Spring Set (Catalog Num. ME-9866)\n",
        "** Parameters (from the PASCO website):\n",
        "Each spring is constructed of rugged spring steel with large loops that hang from a pendulum clamp or stretch with hanging masses. Spring constants range from $3.5 \\frac{N}{m}$ to $14 \\frac{N}{m}$. Spring lengths vary between 10.8 cm and 21.6 cm. Each spring has a 1 inch outer diameter.\n",
        "\n",
        "$\\text{Springs Used for the lab:}$\n",
        "\n",
        "* 1x Spring, $ k = 3.5 \\frac{N}{m} $, $L = 10.8 \\text{cm} $\n",
        "* 1x Spring, $ k = 3.5 \\frac{N}{m}$, $L = 21.6 \\text{cm} $\n",
        "* 1x Spring, $ k = 7 \\frac{N}{m}$ , $L = 10.8 \\text{cm}$\n",
        "* 1x Spring, $ k = 14 \\frac{N}{m}$, $L = 10.8 \\text{cm}$\n",
        "\n",
        "* Support Base\n",
        "* Support Stand\n",
        "* Weights Chips\n",
        "* Graphing Paper\n",
        "\n",
        "$\\large \\text{Student Prompt}:$\n",
        "\n",
        "Consider the following experimental setup:\n",
        " A block is suspended from a spring. The length of  the spring is measured in centimeters and the mass of the block in grams. Table 1 gives the  length of the spring with different masses attached. Students will begin by measuring the natural length of the spring , this is the length of the spring under zero load:\n",
        "\n",
        "\n",
        "\n",
        "In this STEM activity, students can learn how to create line graphs from experimental data. Students will use the $\\texttt{matplotlib}$ library to visualize data from a Hooke’s Law laboratory experiment.\n",
        "* Students must make sure matplotlib is installed\n",
        "* Students will load the raw data into Python using $\\texttt{numpy.loadtxt}$ or, as an alternative method, use array commands.\n",
        "* Students will Plot the data on the dependent variable against the independent variable using $\\texttt{plt.plot}$.\n",
        "* Students will add labels to the axes and a title to make the plot relevant and informative.\n",
        "\n",
        "\n",
        "\n"
      ],
      "metadata": {
        "id": "GxmdgkirJXP_"
      }
    },
    {
      "cell_type": "code",
      "source": [
        "#Code for the line of best fit\n",
        "#Code for tickmark spacing\n",
        "\n",
        "import numpy as np\n",
        "import matplotlib.pyplot as plt\n",
        "import matplotlib as mpl\n",
        "import pandas as pd\n",
        "data = np.array([\n",
        "    [0, 0.4],\n",
        "    [5, 0.6],\n",
        "    [10, 0.9],\n",
        "    [15,1.0],\n",
        "    [20,1.2],\n",
        "    [25,1.3],\n",
        "    [30,1.6]\n",
        "])\n",
        "x, y = data.T\n",
        "plt.scatter(x,y)\n"
      ],
      "metadata": {
        "colab": {
          "base_uri": "https://localhost:8080/",
          "height": 447
        },
        "id": "W7BIInjRWfs0",
        "outputId": "91451252-0bfb-49a0-84b2-8e215fdf054c"
      },
      "execution_count": null,
      "outputs": [
        {
          "output_type": "execute_result",
          "data": {
            "text/plain": [
              "<matplotlib.collections.PathCollection at 0x7b02e45c0220>"
            ]
          },
          "metadata": {},
          "execution_count": 1
        },
        {
          "output_type": "display_data",
          "data": {
            "text/plain": [
              "<Figure size 640x480 with 1 Axes>"
            ],
            "image/png": "[encoded data removed]"
          },
          "metadata": {}
        }
      ]
    },
    {
      "cell_type": "markdown",
      "source": [
        "<font color = green> $\\text{Now lets add a title and axis labels to our plot}$"
      ],
      "metadata": {
        "id": "2ep0nfBZwQ4a"
      }
    },
    {
      "cell_type": "markdown",
      "source": [
        "$\\text{Code to Generate a LoBF (Line of Best Fit):}$\n"
      ],
      "metadata": {
        "id": "pJ15BlKLWoQl"
      }
    },
    {
      "cell_type": "code",
      "source": [
        "#Code to generate LoBF\n",
        "\n",
        "a,b = np.polyfit(x,y,1)\n",
        "plt.plot(x,a*x+b)\n",
        "\n",
        "plt.grid(True)\n",
        "\n",
        "plt.xlim(0, 35)\n",
        "plt.ylim(0,1.8)\n",
        "\n",
        "plt.yticks([i/5 for i in range(0, 10)])\n",
        "plt.title(\"Lenght of a Spring for Different Masses\")\n",
        "plt.xlabel(\"Mass (g)\")\n",
        "plt.ylabel(\"Lenght (cm)\")\n"
      ],
      "metadata": {
        "colab": {
          "base_uri": "https://localhost:8080/",
          "height": 489
        },
        "id": "c0X5MwFMWzgd",
        "outputId": "b3685e0b-753f-4474-f2a7-1e87829dd5f9"
      },
      "execution_count": null,
      "outputs": [
        {
          "output_type": "execute_result",
          "data": {
            "text/plain": [
              "Text(0, 0.5, 'Lenght (cm)')"
            ]
          },
          "metadata": {},
          "execution_count": 2
        },
        {
          "output_type": "display_data",
          "data": {
            "text/plain": [
              "<Figure size 640x480 with 1 Axes>"
            ],
            "image/png": "[encoded data removed]"
          },
          "metadata": {}
        }
      ]
    },
    {
      "cell_type": "markdown",
      "source": [
        "<font color = red>$\\Large \\text{Python Code Syntax}:$\n",
        "\n",
        "$\\texttt{import numpy as np}$\n",
        "$\\texttt{import matplotlib.pyplot as plot}$\n",
        "$\\texttt{x = np.array}$\n",
        "$\\left( \\left[ x_1, x_2, x_3, ... , x_n \\right] \\right)$\n",
        "$\\texttt{y = np.array}$\n",
        "$\\left( \\left[ y_1, y_2, y_3, ... , y_n \\right] \\right)$\n",
        "\n",
        "\n",
        "\n",
        "\n",
        "\n",
        "<font color = blue> $\\text{Code for generating a LoBF:}$\n",
        "\n",
        "$\\texttt{a,b = np.polyfit}$ $(x, y, 1)$\n",
        "$\\texttt{plt.scatter}$ $(x,y)$\n",
        "\n",
        "$\\texttt{plt.plot}$ $(x, a*x+b)$\n",
        "\n",
        "$\\texttt{plt.show( )}$\n",
        "\n",
        "\n",
        "\n",
        "<font color = blue> $\\text{Code for custom formatting the plot  by setting the axis tick marks to a specified interval:}$\n",
        "\n",
        "$\\texttt{plt.grid(True)}$\n",
        "\n",
        "$\\texttt{Plt.xlim}$\n",
        "$\\texttt{Plt.ylim}$\n",
        "$\\texttt{Plt.yticks([  for  in range  ])}$\n",
        "\n",
        "$\\texttt{plt.title(\"Lenght of a Spring for Different Masses\")}$\n",
        "$\\texttt{plt.xlabel(\"Mass (g)\")}$\n",
        "$\\texttt{plt.ylabel(\"Lenght (cm)\")}$\n"
      ],
      "metadata": {
        "id": "HtYIa6WKnx0e"
      }
    },
    {
      "cell_type": "markdown",
      "source": [
        "<font color = red> $\\text{Manual Calculations for the LoBF using a Least Square Regression Line (LSRL)}$\n",
        "\n",
        "$\\text{Students will finally implement an algorithm for a LSRL:}$\n",
        "\n",
        "$\\text{Given a sample data set of size}$\n",
        "$n$\n",
        "\n",
        "$$ \\{ (x_1, y_1), (x_2, y_2), \\ldots , (x_i, y_i), \\ldots (x_n, y_n) \\} $$\n",
        "\n",
        "\n",
        "\n",
        "$\\text{The equation of the LSRL is given by:}$\n",
        "\n",
        "$$ \\hat{y} = a + bx $$\n",
        "\n",
        "$\\text{Where $\\hat{y}$ is the predicted value of $y$ and}$\n",
        "\n",
        " $$ a = \\hat{y} - b\\bar{x}$$\n",
        "\n",
        "\n",
        "\n",
        "$\\text{Students will determine  and  using the standard formula for the arithmetic mean.}$\n",
        "\n",
        "$$ b= \\frac{\\Sigma_{i=1}^{n} (x_i - \\bar{ x})(y_i - \\bar{y})}{\\Sigma_{i=1}^{n} (x_i-\\bar{x})^2}$$\n",
        "\n",
        "\n"
      ],
      "metadata": {
        "id": "yOkOUeL5qmz0"
      }
    }
  ]
}